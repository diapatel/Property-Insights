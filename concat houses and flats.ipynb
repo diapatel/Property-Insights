{
 "cells": [
  {
   "cell_type": "code",
   "execution_count": 1,
   "id": "d6f555dc-c8bc-40d8-8705-2022cdd6bf66",
   "metadata": {},
   "outputs": [],
   "source": [
    "import pandas as pd\n",
    "import numpy as np\n",
    "\n",
    "pd.set_option('display.max_columns', None)\n",
    "pd.set_option('display.max_rows', None)\n",
    "\n",
    "import warnings\n",
    "warnings.filterwarnings(action='ignore')"
   ]
  },
  {
   "cell_type": "code",
   "execution_count": 2,
   "id": "8454ab5d-e247-45d7-96e3-b3d7aba0d3a2",
   "metadata": {},
   "outputs": [],
   "source": [
    "houses = pd.read_csv('./houses_cleaned_v1.csv')\n",
    "flats = pd.read_csv('./flats_cleaned_v1.csv')"
   ]
  },
  {
   "cell_type": "code",
   "execution_count": 7,
   "id": "93636d14-b733-4ab5-8d9d-96f80a31eee6",
   "metadata": {
    "tags": []
   },
   "outputs": [],
   "source": [
    "data = pd.concat([houses, flats], ignore_index=True)"
   ]
  },
  {
   "cell_type": "code",
   "execution_count": 9,
   "id": "cc8084af-b7ff-4f79-9e91-d0117ea16636",
   "metadata": {},
   "outputs": [],
   "source": [
    "data = data.sample(data.shape[0])"
   ]
  },
  {
   "cell_type": "code",
   "execution_count": 11,
   "id": "17ab0719-ec98-404d-82f7-eabec832178e",
   "metadata": {},
   "outputs": [],
   "source": [
    "data.drop(columns='Unnamed: 0', inplace=True)"
   ]
  },
  {
   "cell_type": "code",
   "execution_count": 12,
   "id": "44704c0b-b68e-4b27-90e5-ea824810b915",
   "metadata": {},
   "outputs": [],
   "source": [
    "data.to_csv('gurgaon_properties.csv')"
   ]
  },
  {
   "cell_type": "code",
   "execution_count": null,
   "id": "e1b112d6-9f2d-40cd-a26e-571d72f2f739",
   "metadata": {},
   "outputs": [],
   "source": []
  },
  {
   "cell_type": "code",
   "execution_count": null,
   "id": "4f17cb20-3d88-4fd4-b579-0baef5e637c9",
   "metadata": {},
   "outputs": [],
   "source": []
  }
 ],
 "metadata": {
  "kernelspec": {
   "display_name": "Python 3 (ipykernel)",
   "language": "python",
   "name": "python3"
  },
  "language_info": {
   "codemirror_mode": {
    "name": "ipython",
    "version": 3
   },
   "file_extension": ".py",
   "mimetype": "text/x-python",
   "name": "python",
   "nbconvert_exporter": "python",
   "pygments_lexer": "ipython3",
   "version": "3.9.13"
  }
 },
 "nbformat": 4,
 "nbformat_minor": 5
}
